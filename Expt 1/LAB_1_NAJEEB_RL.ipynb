{
 "cells": [
  {
   "cell_type": "markdown",
   "id": "7bac8c10-b3e3-450e-93cc-bf6a06f86bd8",
   "metadata": {},
   "source": [
    "### Implementation of MDP\n",
    "##### BY NAJEEB FARIDUDDIN SAIYED \n",
    "##### PRN 21070126057\n",
    "<p style=\"font-family:arial; font-weight:bold; letter-spacing: 2px; font-size:140%; text-align:left;padding: 0px; border-bottom: 3px solid PURPLE\">"
   ]
  },
  {
   "cell_type": "markdown",
   "id": "6aca59c6-c540-4992-b4b6-2e33f8797108",
   "metadata": {},
   "source": [
    "#### Importing necessary libraries"
   ]
  },
  {
   "cell_type": "code",
   "execution_count": 4,
   "id": "73d1e495-4f37-4a9d-bf03-d0ef4243ed50",
   "metadata": {
    "colab": {
     "base_uri": "https://localhost:8080/",
     "height": 367
    },
    "id": "73d1e495-4f37-4a9d-bf03-d0ef4243ed50",
    "outputId": "d62d024b-cdbb-4414-c39d-eadb0eeab6ba"
   },
   "outputs": [
    {
     "name": "stderr",
     "output_type": "stream",
     "text": [
      "UsageError: unrecognized arguments: # command to display matplotlib plots inline in Jupyter notebooks\n"
     ]
    }
   ],
   "source": [
    "import gym               # Importing OpenAI Gym library for reinforcement learning environments\n",
    "import numpy as np       # Importing NumPy library for numerical computations\n",
    "from IPython import display  # Importing display module from IPython for notebook display\n",
    "from matplotlib import pyplot as plt  # Importing pyplot module from Matplotlib for plotting\n",
    "\n",
    "# Importing custom environment\n",
    "from envs import Maze   # Importing custom environment named Maze from envs module\n",
    "\n",
    "%matplotlib inline  # command to display matplotlib plots inline in Jupyter notebooks"
   ]
  },
  {
   "cell_type": "markdown",
   "id": "aede8f43-ccf0-4971-919b-a6daaba61c2c",
   "metadata": {},
   "source": [
    "#### creating an instance of the Maze environment"
   ]
  },
  {
   "cell_type": "code",
   "execution_count": 5,
   "id": "81110293-8e95-43c3-89f4-d7ee7e605e9c",
   "metadata": {
    "id": "81110293-8e95-43c3-89f4-d7ee7e605e9c"
   },
   "outputs": [],
   "source": [
    "# creates an instance of the Maze environment and assigns it to the variable env\n",
    "env = Maze()"
   ]
  },
  {
   "cell_type": "markdown",
   "id": "4422749e-c86a-41c0-a5ff-d9b863328170",
   "metadata": {},
   "source": [
    "## Taking a Deeper dive on our agent and Environment\n",
    "<p style=\"font-family:arial; font-weight:bold; letter-spacing: 2px; font-size:140%; text-align:left;padding: 0px; border-bottom: 3px solid green\">"
   ]
  },
  {
   "cell_type": "markdown",
   "id": "ebbc32f1-fce2-497e-a82d-0d77bc4c0a4a",
   "metadata": {},
   "source": [
    "#### Understanding states and state space of our maze environment\n",
    "The states consist of a tuple of two integers, both in the range [0, 4], representing the row and column in which the agent is currently located:\n",
    "\n",
    "The state space (set of all possible states in the task) has 25 elements (all possible combinations of rows and columns):\n",
    "\n",
    "Information about the state space is stored in the env.observation_space property. In this environment, it is of MultiDiscrete([5 5]) type, which means that it consists of two elements (rows and columns), each with 5 different values."
   ]
  },
  {
   "cell_type": "code",
   "execution_count": 6,
   "id": "030f7f1c-6d35-4266-aa4e-5e452d32ceb8",
   "metadata": {},
   "outputs": [
    {
     "name": "stdout",
     "output_type": "stream",
     "text": [
      "For example, the initial state is: (0, 0)\n",
      "The space state is of type: MultiDiscrete([5 5])\n"
     ]
    }
   ],
   "source": [
    "print(f\"For example, the initial state is: {env.reset()}\")\n",
    "print(f\"The space state is of type: {env.observation_space}\")"
   ]
  },
  {
   "cell_type": "markdown",
   "id": "ff547e6d-434c-46d5-86b3-6893207eecd3",
   "metadata": {},
   "source": [
    "#### Resetting its initial state"
   ]
  },
  {
   "cell_type": "code",
   "execution_count": 7,
   "id": "15fccff0-efde-4303-b7c6-1a1a0725803f",
   "metadata": {
    "id": "15fccff0-efde-4303-b7c6-1a1a0725803f",
    "outputId": "7e00a1a2-29ef-41dd-816a-884777ce4b26"
   },
   "outputs": [],
   "source": [
    "# Resetting the environment to its initial state and obtaining the initial state\n",
    "initial_state = env.reset()"
   ]
  },
  {
   "cell_type": "code",
   "execution_count": 8,
   "id": "9bc2f4f5-907e-42a0-9a7e-1697f9958a82",
   "metadata": {},
   "outputs": [
    {
     "name": "stdout",
     "output_type": "stream",
     "text": [
      "The new episode will start in state: (0, 0)\n"
     ]
    }
   ],
   "source": [
    "# Displaying the initial state\n",
    "print(f\"The new episode will start in state: {initial_state}\")"
   ]
  },
  {
   "cell_type": "markdown",
   "id": "a7c9caa1-a06c-4507-af82-5eb79c6e716a",
   "metadata": {},
   "source": [
    "##### Actions and action space.\n",
    "\n",
    "In our environment there are four actions that can be taken up by the agent and it is represented as follows-\n",
    "\n",
    "0: For Moving Up\n",
    "\n",
    "1: For Moving Right\n",
    "\n",
    "2: For Moving Down\n",
    "\n",
    "3: For Moving Left\n"
   ]
  },
  {
   "cell_type": "code",
   "execution_count": 9,
   "id": "da7e9967-e81f-414b-a880-062ebbaa768d",
   "metadata": {},
   "outputs": [
    {
     "name": "stdout",
     "output_type": "stream",
     "text": [
      "An example of a valid action is: 1\n",
      "The action state is of type: Discrete(4)\n"
     ]
    }
   ],
   "source": [
    "print(f\"An example of a valid action is: {env.action_space.sample()}\")\n",
    "print(f\"The action state is of type: {env.action_space}\")"
   ]
  },
  {
   "cell_type": "markdown",
   "id": "8c4fe68b-1861-4778-9066-16b7dd55b0f1",
   "metadata": {},
   "source": [
    "##### Trajectories\n",
    "\n",
    "A trajectory is the sequence generated by moving from one state to another (both arbitrary)"
   ]
  },
  {
   "cell_type": "code",
   "execution_count": 10,
   "id": "316530c1-f405-4336-8c24-76d15f1bf463",
   "metadata": {},
   "outputs": [
    {
     "name": "stdout",
     "output_type": "stream",
     "text": [
      "Generated trajectory for iteration 1:\t[(0, 0), 3, -1.0, False, (0, 0)]\n",
      "Generated trajectory for iteration 2:\t[(0, 0), 2, -1.0, False, (1, 0)]\n",
      "Generated trajectory for iteration 3:\t[(1, 0), 1, -1.0, False, (1, 0)]\n"
     ]
    }
   ],
   "source": [
    "# Generating trajectory for 'n' moves\n",
    "env = Maze()  # Create an instance of the Maze environment\n",
    "state = env.reset()  # Reset the environment and get the initial state\n",
    "trajectory = []  # Initialize an empty list to store trajectory\n",
    "n = 4  # Number of moves to generate in the trajectory\n",
    "\n",
    "# Loop to generate trajectory for 'n' moves\n",
    "for _ in range(3):  # Iterate over 'n-1' steps (since the loop starts from 0)\n",
    "    action = env.action_space.sample()  # Choose a random action from the action space\n",
    "    next_state, reward, done, extra_info = env.step(action)  # Take the chosen action in the environment\n",
    "    trajectory.append([state, action, reward, done, next_state])  # Store the transition in the trajectory\n",
    "    state = next_state  # Update the current state to the next state\n",
    "\n",
    "env.close()  # Close the environment after generating the trajectory\n",
    "\n",
    "# Display the generated trajectory for each iteration\n",
    "for i in range(n-1):  # Iterate over 'n-1' steps (since the loop starts from 0)\n",
    "    print(f\"Generated trajectory for iteration {i+1}:\\t{trajectory[i]}\")  # Print the trajectory for each iteration\n"
   ]
  },
  {
   "cell_type": "markdown",
   "id": "529fb07f-6ccb-4771-b7b8-974852b6ec92",
   "metadata": {},
   "source": [
    "#### Episode\n",
    "An episode is a trajectory that goes from the initial state of the process to the final one:"
   ]
  },
  {
   "cell_type": "code",
   "execution_count": 11,
   "id": "07ed4b15-15ac-4b94-884c-b4cf7ace7179",
   "metadata": {},
   "outputs": [
    {
     "name": "stdout",
     "output_type": "stream",
     "text": [
      "Episode:\n",
      "[[(0, 0), 1, -1.0, False, (0, 1)], [(0, 1), 2, -1.0, False, (1, 1)], [(1, 1), 2, -1.0, False, (2, 1)], [(2, 1), 0, -1.0, False, (1, 1)], [(1, 1), 1, -1.0, False, (1, 1)], [(1, 1), 0, -1.0, False, (0, 1)], [(0, 1), 2, -1.0, False, (1, 1)], [(1, 1), 1, -1.0, False, (1, 1)], [(1, 1), 3, -1.0, False, (1, 1)], [(1, 1), 3, -1.0, False, (1, 1)], [(1, 1), 0, -1.0, False, (0, 1)], [(0, 1), 0, -1.0, False, (0, 1)], [(0, 1), 0, -1.0, False, (0, 1)], [(0, 1), 0, -1.0, False, (0, 1)], [(0, 1), 2, -1.0, False, (1, 1)], [(1, 1), 1, -1.0, False, (1, 1)], [(1, 1), 0, -1.0, False, (0, 1)], [(0, 1), 0, -1.0, False, (0, 1)], [(0, 1), 0, -1.0, False, (0, 1)], [(0, 1), 3, -1.0, False, (0, 0)], [(0, 0), 3, -1.0, False, (0, 0)], [(0, 0), 2, -1.0, False, (1, 0)], [(1, 0), 1, -1.0, False, (1, 0)], [(1, 0), 2, -1.0, False, (2, 0)], [(2, 0), 3, -1.0, False, (2, 0)], [(2, 0), 1, -1.0, False, (2, 0)], [(2, 0), 1, -1.0, False, (2, 0)], [(2, 0), 2, -1.0, False, (3, 0)], [(3, 0), 0, -1.0, False, (2, 0)], [(2, 0), 1, -1.0, False, (2, 0)], [(2, 0), 1, -1.0, False, (2, 0)], [(2, 0), 0, -1.0, False, (1, 0)], [(1, 0), 0, -1.0, False, (0, 0)], [(0, 0), 3, -1.0, False, (0, 0)], [(0, 0), 1, -1.0, False, (0, 1)], [(0, 1), 3, -1.0, False, (0, 0)], [(0, 0), 3, -1.0, False, (0, 0)], [(0, 0), 1, -1.0, False, (0, 1)], [(0, 1), 0, -1.0, False, (0, 1)], [(0, 1), 3, -1.0, False, (0, 0)], [(0, 0), 3, -1.0, False, (0, 0)], [(0, 0), 2, -1.0, False, (1, 0)], [(1, 0), 2, -1.0, False, (2, 0)], [(2, 0), 2, -1.0, False, (3, 0)], [(3, 0), 2, -1.0, False, (4, 0)], [(4, 0), 3, -1.0, False, (4, 0)], [(4, 0), 0, -1.0, False, (3, 0)], [(3, 0), 2, -1.0, False, (4, 0)], [(4, 0), 1, -1.0, False, (4, 1)], [(4, 1), 1, -1.0, False, (4, 2)], [(4, 2), 2, -1.0, False, (4, 2)], [(4, 2), 1, -1.0, False, (4, 2)], [(4, 2), 2, -1.0, False, (4, 2)], [(4, 2), 1, -1.0, False, (4, 2)], [(4, 2), 1, -1.0, False, (4, 2)], [(4, 2), 0, -1.0, False, (3, 2)], [(3, 2), 1, -1.0, False, (3, 3)], [(3, 3), 3, -1.0, False, (3, 2)], [(3, 2), 1, -1.0, False, (3, 3)], [(3, 3), 1, -1.0, False, (3, 4)], [(3, 4), 1, -1.0, False, (3, 4)], [(3, 4), 0, -1.0, False, (3, 4)], [(3, 4), 0, -1.0, False, (3, 4)], [(3, 4), 2, -1.0, True, (4, 4)]]\n"
     ]
    }
   ],
   "source": [
    "# Generating episodes\n",
    "env = Maze()  # Create an instance of the Maze environment\n",
    "state = env.reset()  # Reset the environment and get the initial state\n",
    "episode = []  # Initialize an empty list to store the episode transitions\n",
    "done = False  # Flag to indicate whether the episode is done or not\n",
    "\n",
    "# Loop to generate the episode until it's completed\n",
    "while not done:\n",
    "    action = env.action_space.sample()  # Choose a random action from the action space\n",
    "    next_state, reward, done, extra_info = env.step(action)  # Take the chosen action in the environment\n",
    "    episode.append([state, action, reward, done, next_state])  # Store the transition in the episode\n",
    "    state = next_state  # Update the current state to the next state\n",
    "\n",
    "env.close()  # Close the environment after generating the episode\n",
    "\n",
    "# Display the generated episode\n",
    "print(f\"Episode:\\n{episode}\")  # Print the generated episode"
   ]
  },
  {
   "cell_type": "code",
   "execution_count": 12,
   "id": "1e776ffc-05f9-4dd1-b3e1-be9dcdb9f868",
   "metadata": {},
   "outputs": [
    {
     "name": "stdout",
     "output_type": "stream",
     "text": [
      "Total episodes taken: 64\n"
     ]
    }
   ],
   "source": [
    "# Print the total number of steps (transitions) in the episode\n",
    "print(\"Total episodes taken:\", len(episode))"
   ]
  },
  {
   "cell_type": "markdown",
   "id": "8e35077d-cb1f-4e0e-a76c-405723da6990",
   "metadata": {},
   "source": [
    "#### Rewards\n",
    "A reward is numerical feedback that the environment generates when the agent takes an action *a* in a state *s*"
   ]
  },
  {
   "cell_type": "code",
   "execution_count": 13,
   "id": "b838a282-51b0-4e8f-a99a-4d7b178d61d7",
   "metadata": {},
   "outputs": [
    {
     "name": "stdout",
     "output_type": "stream",
     "text": [
      "We achieved a reward of -1.0 by taking action 0 in state (0, 0)\n"
     ]
    }
   ],
   "source": [
    "# Import the Maze environment\n",
    "env = Maze()\n",
    "\n",
    "# Reset the environment to its initial state and obtain the starting state\n",
    "state = env.reset()\n",
    "\n",
    "# Choose a random action from the action space\n",
    "action = env.action_space.sample()\n",
    "\n",
    "# Take a step in the environment by applying the chosen action\n",
    "# and observe the next state, the reward, whether the episode is done, and any additional information\n",
    "next_state, reward, done, info = env.step(action)\n",
    "\n",
    "# Print the information about the reward obtained by taking the action in the state\n",
    "print(f\"We achieved a reward of {reward} by taking action {action} in state {state}\")"
   ]
  },
  {
   "cell_type": "code",
   "execution_count": null,
   "id": "e3c546da-97fd-40f3-9bf6-52a3606d59c2",
   "metadata": {},
   "outputs": [],
   "source": []
  },
  {
   "cell_type": "code",
   "execution_count": null,
   "id": "879f2cb5-8cf0-41a9-b4c6-2103cd7ddd2c",
   "metadata": {},
   "outputs": [],
   "source": []
  },
  {
   "cell_type": "code",
   "execution_count": null,
   "id": "28d75752-d39e-4316-aa15-1eb4a8ae33c1",
   "metadata": {},
   "outputs": [],
   "source": []
  },
  {
   "cell_type": "code",
   "execution_count": null,
   "id": "26af757a-5754-4a3e-84f3-5fecf28cf67b",
   "metadata": {},
   "outputs": [],
   "source": []
  },
  {
   "cell_type": "code",
   "execution_count": null,
   "id": "fd5ca5b5-34de-4834-973c-b2bcfcddd07b",
   "metadata": {},
   "outputs": [],
   "source": [
    "env = Maze()\n",
    "state = env.reset()\n",
    "done = False \n",
    "gamma = 0.99\n",
    "t = 0\n",
    "G_0 = 0\n",
    "while not done:\n",
    "    action = env.action_space.sample()\n",
    "    _,reward, done, _ = env.step(action)\n",
    "    G_0 += gamma ** t*reward\n",
    "    t += 1\n",
    "env.close()\n",
    "print(\n",
    "    f\"\"\" it took us {t} moves to find the exit,\n",
    "    and each reward r(s,a)=-1, so the return amounts to {G_0}\"\"\")"
   ]
  },
  {
   "cell_type": "code",
   "execution_count": null,
   "id": "0a54e6c4-a104-4616-9ca6-5024e36bb9ec",
   "metadata": {},
   "outputs": [],
   "source": []
  },
  {
   "cell_type": "code",
   "execution_count": null,
   "id": "875c1c2c-c9e5-4ec9-b86a-c869bae32123",
   "metadata": {},
   "outputs": [],
   "source": []
  },
  {
   "cell_type": "code",
   "execution_count": null,
   "id": "a2969911-b36e-4306-bc73-822b4c0cd538",
   "metadata": {},
   "outputs": [],
   "source": []
  },
  {
   "cell_type": "code",
   "execution_count": null,
   "id": "30153c6b-fd47-4532-86de-101505d2159d",
   "metadata": {},
   "outputs": [],
   "source": []
  },
  {
   "cell_type": "markdown",
   "id": "f3f30b5f-0f64-4c49-9996-77e562b3ba02",
   "metadata": {},
   "source": [
    "## Displaying Current state of the environment"
   ]
  },
  {
   "cell_type": "code",
   "execution_count": 14,
   "id": "0202a767-490f-498d-88bc-d912ce4e4dcc",
   "metadata": {
    "id": "0202a767-490f-498d-88bc-d912ce4e4dcc",
    "outputId": "fa44a8d5-e373-4bf0-93b9-f3ce1af1585a"
   },
   "outputs": [
    {
     "data": {
      "text/plain": [
       "<matplotlib.image.AxesImage at 0x21da26a44f0>"
      ]
     },
     "execution_count": 14,
     "metadata": {},
     "output_type": "execute_result"
    },
    {
     "data": {
      "image/png": "[encoded data removed]",
      "text/plain": [
       "<Figure size 640x480 with 1 Axes>"
      ]
     },
     "metadata": {},
     "output_type": "display_data"
    }
   ],
   "source": [
    "# Rendering the current state of the environment as an RGB array\n",
    "frame = env.render(mode='rgb_array')\n",
    "\n",
    "# Turning off the axis in the plot\n",
    "plt.axis('off')\n",
    "\n",
    "# Setting the title of the plot to indicate the current state\n",
    "plt.title(f\"State: {initial_state}\")\n",
    "\n",
    "# Displaying the rendered frame as an image\n",
    "plt.imshow(frame)\n"
   ]
  },
  {
   "cell_type": "markdown",
   "id": "f22c0ced-c00e-476b-97b3-4847578d3f0d",
   "metadata": {},
   "source": [
    "## Discrete Action Space\n",
    "\n",
    "In a discrete action space, the possible actions are typically represented as discrete integers. For example:\n",
    "\n",
    "- Move left: 0\n",
    "- Move right: 1\n",
    "- Move up: 2\n",
    "- Move down: 3\n",
    "  \n",
    "<p style=\"font-family:arial; font-weight:bold; letter-spacing: 2px; font-size:140%; text-align:left;padding: 0px; border-bottom: 3px solid green\">"
   ]
  },
  {
   "cell_type": "code",
   "execution_count": 15,
   "id": "340106f4-8b2e-4dbc-9dd2-47791f3f4acf",
   "metadata": {
    "id": "340106f4-8b2e-4dbc-9dd2-47791f3f4acf",
    "outputId": "362a0220-5244-4fcc-9039-74751a24b596"
   },
   "outputs": [
    {
     "name": "stdout",
     "output_type": "stream",
     "text": [
      "After moving, the agent is in state: (1, 0)\n",
      "After moving, we got a reward of: -1.0\n",
      "After moving, the task is not finished\n"
     ]
    }
   ],
   "source": [
    "# Set the action for the agent\n",
    "action = 2\n",
    "# Execute the action in the environment and get the resulting state, reward, done flag, and additional information\n",
    "next_state, reward, done, info = env.step(action)\n",
    "# Print the state after the agent's move\n",
    "print(f\"After moving, the agent is in state: {next_state}\")\n",
    "# Print the reward obtained after the agent's move\n",
    "print(f\"After moving, we got a reward of: {reward}\")\n",
    "# Print whether the task is finished after the agent's move\n",
    "print(\"After moving, the task is\", \"\" if done else \"not\", \"finished\")"
   ]
  },
  {
   "cell_type": "markdown",
   "id": "cf5efa93-0db2-40ad-8e05-1155cab2e729",
   "metadata": {
    "id": "cf5efa93-0db2-40ad-8e05-1155cab2e729"
   },
   "source": [
    "#### Render the new state"
   ]
  },
  {
   "cell_type": "code",
   "execution_count": 16,
   "id": "3f21184e-36ab-4f98-86bd-6abd5a1d0f38",
   "metadata": {
    "id": "3f21184e-36ab-4f98-86bd-6abd5a1d0f38",
    "outputId": "9135a7e1-fe1a-461d-8a8d-a79690b2b35d"
   },
   "outputs": [
    {
     "data": {
      "text/plain": [
       "<matplotlib.image.AxesImage at 0x21da25821f0>"
      ]
     },
     "execution_count": 16,
     "metadata": {},
     "output_type": "execute_result"
    },
    {
     "data": {
      "image/png": "[encoded data removed]",
      "text/plain": [
       "<Figure size 640x480 with 1 Axes>"
      ]
     },
     "metadata": {},
     "output_type": "display_data"
    }
   ],
   "source": [
    "# Render the environment frame as an RGB array\n",
    "frame = env.render(mode='rgb_array')\n",
    "# Turn off the axis for the plot\n",
    "plt.axis('off')\n",
    "# Set the title of the plot to display the current state\n",
    "plt.title(f\"State: {next_state}\")\n",
    "# Display the rendered frame as an image\n",
    "plt.imshow(frame)"
   ]
  },
  {
   "cell_type": "code",
   "execution_count": 17,
   "id": "ecf9a611-fe3f-468b-b929-d43409760298",
   "metadata": {},
   "outputs": [
    {
     "name": "stdout",
     "output_type": "stream",
     "text": [
      "After moving, the agent is in state: (2, 0)\n",
      "After moving, we got a reward of: -1.0\n",
      "After moving, the task is not finished\n",
      "After moving, the agent is in state: (3, 0)\n",
      "After moving, we got a reward of: -1.0\n",
      "After moving, the task is not finished\n",
      "After moving, the agent is in state: (4, 0)\n",
      "After moving, we got a reward of: -1.0\n",
      "After moving, the task is not finished\n"
     ]
    },
    {
     "data": {
      "text/plain": [
       "<matplotlib.image.AxesImage at 0x21da25dfca0>"
      ]
     },
     "execution_count": 17,
     "metadata": {},
     "output_type": "execute_result"
    },
    {
     "data": {
      "image/png": "[encoded data removed]",
      "text/plain": [
       "<Figure size 640x480 with 1 Axes>"
      ]
     },
     "metadata": {},
     "output_type": "display_data"
    }
   ],
   "source": [
    "action = 2\n",
    "next_state, reward, done, info = env.step(action)\n",
    "print(f\"After moving, the agent is in state: {next_state}\")\n",
    "print(f\"After moving, we got a reward of: {reward}\")\n",
    "print(\"After moving, the task is\", \"\" if done else \"not\", \"finished\")\n",
    "\n",
    "action = 2\n",
    "next_state, reward, done, info = env.step(action)\n",
    "print(f\"After moving, the agent is in state: {next_state}\")\n",
    "print(f\"After moving, we got a reward of: {reward}\")\n",
    "print(\"After moving, the task is\", \"\" if done else \"not\", \"finished\")\n",
    "\n",
    "action = 2\n",
    "next_state, reward, done, info = env.step(action)\n",
    "print(f\"After moving, the agent is in state: {next_state}\")\n",
    "print(f\"After moving, we got a reward of: {reward}\")\n",
    "print(\"After moving, the task is\", \"\" if done else \"not\", \"finished\")\n",
    "\n",
    "frame = env.render(mode='rgb_array')\n",
    "plt.axis('off')\n",
    "plt.title(f\"State: {next_state}\")\n",
    "plt.imshow(frame)"
   ]
  },
  {
   "cell_type": "markdown",
   "id": "fecb27ea-6ca7-490e-9340-55f10cf5b973",
   "metadata": {},
   "source": [
    "<p style=\"font-family:arial; font-weight:bold; letter-spacing: 2px; font-size:140%; text-align:left;padding: 0px; border-bottom: 3px solid green\">"
   ]
  },
  {
   "cell_type": "code",
   "execution_count": 18,
   "id": "2af3ddb5-c26b-40e9-89e6-a8dc8feecf7c",
   "metadata": {},
   "outputs": [
    {
     "name": "stdout",
     "output_type": "stream",
     "text": [
      "After moving, the agent is in state: (4, 1)\n",
      "After moving, we got a reward of: -1.0\n",
      "After moving, the task is not finished\n",
      "After moving, the agent is in state: (4, 2)\n",
      "After moving, we got a reward of: -1.0\n",
      "After moving, the task is not finished\n"
     ]
    },
    {
     "data": {
      "text/plain": [
       "<matplotlib.image.AxesImage at 0x21da263c670>"
      ]
     },
     "execution_count": 18,
     "metadata": {},
     "output_type": "execute_result"
    },
    {
     "data": {
      "image/png": "[encoded data removed]",
      "text/plain": [
       "<Figure size 640x480 with 1 Axes>"
      ]
     },
     "metadata": {},
     "output_type": "display_data"
    }
   ],
   "source": [
    "action = 1\n",
    "next_state, reward, done, info = env.step(action)\n",
    "print(f\"After moving, the agent is in state: {next_state}\")\n",
    "print(f\"After moving, we got a reward of: {reward}\")\n",
    "print(\"After moving, the task is\", \"\" if done else \"not\", \"finished\")\n",
    "\n",
    "action = 1\n",
    "next_state, reward, done, info = env.step(action)\n",
    "print(f\"After moving, the agent is in state: {next_state}\")\n",
    "print(f\"After moving, we got a reward of: {reward}\")\n",
    "print(\"After moving, the task is\", \"\" if done else \"not\", \"finished\")\n",
    "\n",
    "frame = env.render(mode='rgb_array')\n",
    "plt.axis('off')\n",
    "plt.title(f\"State: {next_state}\")\n",
    "plt.imshow(frame)"
   ]
  },
  {
   "cell_type": "markdown",
   "id": "70438ae9-1b47-4ce1-9f3a-153c115ff768",
   "metadata": {},
   "source": [
    "<p style=\"font-family:arial; font-weight:bold; letter-spacing: 2px; font-size:140%; text-align:left;padding: 0px; border-bottom: 3px solid green\">"
   ]
  },
  {
   "cell_type": "code",
   "execution_count": 19,
   "id": "021de2d6-71b3-4e57-8031-3373d63e09fa",
   "metadata": {},
   "outputs": [
    {
     "name": "stdout",
     "output_type": "stream",
     "text": [
      "After moving, the agent is in state: (3, 2)\n",
      "After moving, we got a reward of: -1.0\n",
      "After moving, the task is not finished\n"
     ]
    },
    {
     "data": {
      "text/plain": [
       "<matplotlib.image.AxesImage at 0x21da3ac5400>"
      ]
     },
     "execution_count": 19,
     "metadata": {},
     "output_type": "execute_result"
    },
    {
     "data": {
      "image/png": "[encoded data removed]",
      "text/plain": [
       "<Figure size 640x480 with 1 Axes>"
      ]
     },
     "metadata": {},
     "output_type": "display_data"
    }
   ],
   "source": [
    "action = 0\n",
    "next_state, reward, done, info = env.step(action)\n",
    "print(f\"After moving, the agent is in state: {next_state}\")\n",
    "print(f\"After moving, we got a reward of: {reward}\")\n",
    "print(\"After moving, the task is\", \"\" if done else \"not\", \"finished\")\n",
    "\n",
    "frame = env.render(mode='rgb_array')\n",
    "plt.axis('off')\n",
    "plt.title(f\"State: {next_state}\")\n",
    "plt.imshow(frame)"
   ]
  },
  {
   "cell_type": "markdown",
   "id": "db75fd14-df9f-4d7b-a2b7-178164b4f366",
   "metadata": {},
   "source": [
    "<p style=\"font-family:arial; font-weight:bold; letter-spacing: 2px; font-size:140%; text-align:left;padding: 0px; border-bottom: 3px solid green\">"
   ]
  },
  {
   "cell_type": "code",
   "execution_count": 20,
   "id": "fe69ccf6-ba3e-4897-8ba5-f63c4e1c53c0",
   "metadata": {},
   "outputs": [
    {
     "name": "stdout",
     "output_type": "stream",
     "text": [
      "After moving, the agent is in state: (3, 3)\n",
      "After moving, we got a reward of: -1.0\n",
      "After moving, the task is not finished\n",
      "After moving, the agent is in state: (3, 4)\n",
      "After moving, we got a reward of: -1.0\n",
      "After moving, the task is not finished\n",
      "After moving, the agent is in state: (3, 4)\n",
      "After moving, we got a reward of: -1.0\n",
      "After moving, the task is not finished\n"
     ]
    },
    {
     "data": {
      "text/plain": [
       "<matplotlib.image.AxesImage at 0x21da38a2760>"
      ]
     },
     "execution_count": 20,
     "metadata": {},
     "output_type": "execute_result"
    },
    {
     "data": {
      "image/png": "[encoded data removed]",
      "text/plain": [
       "<Figure size 640x480 with 1 Axes>"
      ]
     },
     "metadata": {},
     "output_type": "display_data"
    }
   ],
   "source": [
    "action = 1\n",
    "next_state, reward, done, info = env.step(action)\n",
    "print(f\"After moving, the agent is in state: {next_state}\")\n",
    "print(f\"After moving, we got a reward of: {reward}\")\n",
    "print(\"After moving, the task is\", \"\" if done else \"not\", \"finished\")\n",
    "\n",
    "action = 1\n",
    "next_state, reward, done, info = env.step(action)\n",
    "print(f\"After moving, the agent is in state: {next_state}\")\n",
    "print(f\"After moving, we got a reward of: {reward}\")\n",
    "print(\"After moving, the task is\", \"\" if done else \"not\", \"finished\")\n",
    "\n",
    "action = 1\n",
    "next_state, reward, done, info = env.step(action)\n",
    "print(f\"After moving, the agent is in state: {next_state}\")\n",
    "print(f\"After moving, we got a reward of: {reward}\")\n",
    "print(\"After moving, the task is\", \"\" if done else \"not\", \"finished\")\n",
    "\n",
    "frame = env.render(mode='rgb_array')\n",
    "plt.axis('off')\n",
    "plt.title(f\"State: {next_state}\")\n",
    "plt.imshow(frame)"
   ]
  },
  {
   "cell_type": "markdown",
   "id": "2f4d7837-fff9-4899-9d0d-8ffa86a3464d",
   "metadata": {},
   "source": [
    "<p style=\"font-family:arial; font-weight:bold; letter-spacing: 2px; font-size:140%; text-align:left;padding: 0px; border-bottom: 3px solid green\">"
   ]
  },
  {
   "cell_type": "code",
   "execution_count": 21,
   "id": "479ffa4b-189d-4664-8928-17012235b668",
   "metadata": {},
   "outputs": [
    {
     "name": "stdout",
     "output_type": "stream",
     "text": [
      "After moving, the agent is in state: (4, 4)\n",
      "After moving, we got a reward of: -1.0\n",
      "After moving, the task is  finished\n"
     ]
    },
    {
     "data": {
      "text/plain": [
       "<matplotlib.image.AxesImage at 0x21da3a06a00>"
      ]
     },
     "execution_count": 21,
     "metadata": {},
     "output_type": "execute_result"
    },
    {
     "data": {
      "image/png": "[encoded data removed]",
      "text/plain": [
       "<Figure size 640x480 with 1 Axes>"
      ]
     },
     "metadata": {},
     "output_type": "display_data"
    }
   ],
   "source": [
    "action = 2\n",
    "next_state, reward, done, info = env.step(action)\n",
    "print(f\"After moving, the agent is in state: {next_state}\")\n",
    "print(f\"After moving, we got a reward of: {reward}\")\n",
    "print(\"After moving, the task is\", \"\" if done else \"not\", \"finished\")\n",
    "\n",
    "frame = env.render(mode='rgb_array')\n",
    "plt.axis('off')\n",
    "plt.title(f\"State: {next_state}\")\n",
    "plt.imshow(frame)"
   ]
  },
  {
   "cell_type": "markdown",
   "id": "fddef24a-aa76-4980-b4b0-355d79880146",
   "metadata": {},
   "source": [
    "And just like that we reached our optimal/ final position"
   ]
  },
  {
   "cell_type": "markdown",
   "id": "1edf049b-3398-4c38-bacc-079c5255adf3",
   "metadata": {},
   "source": [
    "<p style=\"font-family:arial; font-weight:bold; letter-spacing: 2px; font-size:140%; text-align:left;padding: 0px; border-bottom: 3px solid green\">"
   ]
  },
  {
   "cell_type": "markdown",
   "id": "fece55f0-7fe2-4fb4-b8e9-252bb54fc70b",
   "metadata": {},
   "source": [
    "#### Closing the environment"
   ]
  },
  {
   "cell_type": "markdown",
   "id": "b3bb4068-e49f-411f-8e9f-261d26eaebaa",
   "metadata": {},
   "source": [
    "Environment Shutdown: The env.close() function is used to gracefully terminate the RL environment. This includes releasing any resources associated with the environment, such as memory allocations, file handles, or connections to simulators."
   ]
  },
  {
   "cell_type": "code",
   "execution_count": 22,
   "id": "8f307b28-a511-47f7-b0a4-fc5cc8780df0",
   "metadata": {
    "id": "8f307b28-a511-47f7-b0a4-fc5cc8780df0"
   },
   "outputs": [],
   "source": [
    "env.close()"
   ]
  },
  {
   "cell_type": "markdown",
   "id": "cabbf831-fa50-4179-b34f-97917e419a4f",
   "metadata": {},
   "source": [
    "Environment closed successfully"
   ]
  },
  {
   "cell_type": "markdown",
   "id": "e6ef8ada-749e-41ce-8303-78ca716d5398",
   "metadata": {},
   "source": [
    "<p style=\"font-family:arial; font-weight:bold; letter-spacing: 2px; font-size:140%; text-align:left;padding: 0px; border-bottom: 3px solid PURPLE\">\n",
    "##### BY NAJEEB FARIDUDDIN SAIYED \n",
    "##### PRN 21070126057\n",
    "<p style=\"font-family:arial; font-weight:bold; letter-spacing: 2px; font-size:140%; text-align:left;padding: 0px; border-bottom: 3px solid PURPLE\">"
   ]
  }
 ],
 "metadata": {
  "colab": {
   "provenance": []
  },
  "kernelspec": {
   "display_name": "Python 3 (ipykernel)",
   "language": "python",
   "name": "python3"
  },
  "language_info": {
   "codemirror_mode": {
    "name": "ipython",
    "version": 3
   },
   "file_extension": ".py",
   "mimetype": "text/x-python",
   "name": "python",
   "nbconvert_exporter": "python",
   "pygments_lexer": "ipython3",
   "version": "3.8.0"
  }
 },
 "nbformat": 4,
 "nbformat_minor": 5
}
